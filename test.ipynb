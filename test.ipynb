{
 "cells": [
  {
   "cell_type": "code",
   "execution_count": null,
   "metadata": {},
   "outputs": [],
   "source": [
    "import pandas as pd\n",
    "df_part = pd.read_csv(r\"F:\\celeba\\archive\\list_eval_partition.csv\")\n",
    "\n",
    "train = df_part[df_part['partition'] == 0]['image_id'].tolist()\n",
    "val = df_part[df_part['partition'] == 1]['image_id'].tolist()\n",
    "test = df_part[df_part['partition'] == 2]['image_id'].tolist()"
   ]
  },
  {
   "cell_type": "code",
   "execution_count": null,
   "metadata": {},
   "outputs": [],
   "source": [
    "df = pd.read_csv(r\"F:\\celeba\\archive\\list_attr_celeba.csv\")\n",
    "df_train = df[df['image_id'].isin(train)]\n",
    "df_val = df[df['image_id'].isin(val)]\n",
    "df_test = df[df['image_id'].isin(test)]"
   ]
  },
  {
   "cell_type": "code",
   "execution_count": null,
   "metadata": {},
   "outputs": [],
   "source": [
    "df.columns "
   ]
  },
  {
   "cell_type": "code",
   "execution_count": null,
   "metadata": {},
   "outputs": [],
   "source": [
    "\n",
    "attrs = [\"Bags_Under_Eyes\", \"Bangs\", \"Black_Hair\", \"Blond_Hair\", \"Brown_Hair\", \"High_Cheekbones\", \"Mouth_Slightly_Open\", \"Chubby\", \"Eyeglasses\", \"Gray_Hair\", \"Narrow_Eyes\", \"Smiling\", \"Wearing_Hat\"]\n",
    "\n",
    "df.loc[0, attrs].values"
   ]
  },
  {
   "cell_type": "code",
   "execution_count": null,
   "metadata": {},
   "outputs": [],
   "source": [
    "import torch\n",
    "# (df.loc[0, attrs].values + 1) // 2\n",
    "torch.as_tensor((df.loc[0, attrs].values + 1) // 2)"
   ]
  },
  {
   "cell_type": "code",
   "execution_count": null,
   "metadata": {},
   "outputs": [],
   "source": [
    "import main\n",
    "from tqdm import tqdm\n",
    "from torch.utils.data  import DataLoader\n",
    "import torch\n",
    "\n",
    "test_dataloader = DataLoader(main.test_ds, batch_size=256, num_workers=3, pin_memory=True, persistent_workers=True)\n",
    "model = main.CelebAAttributeModel.load_from_checkpoint(r\"F:\\celeba\\lightning_logs\\version_13\\checkpoints\\epoch=61-step=39431.ckpt\").cuda()\n"
   ]
  },
  {
   "cell_type": "code",
   "execution_count": null,
   "metadata": {},
   "outputs": [],
   "source": [
    "all_labels = []\n",
    "all_preds = []\n",
    "for image, labels in tqdm(test_dataloader):\n",
    "    with torch.no_grad():\n",
    "        out = model(image.cuda())\n",
    "        all_preds.append(out)\n",
    "        all_labels.append(labels)\n"
   ]
  },
  {
   "cell_type": "code",
   "execution_count": 26,
   "metadata": {},
   "outputs": [
    {
     "data": {
      "text/plain": [
       "(torch.Size([19962, 13]), torch.Size([19962, 13]))"
      ]
     },
     "execution_count": 26,
     "metadata": {},
     "output_type": "execute_result"
    }
   ],
   "source": [
    "labels = torch.cat(all_labels).cuda()\n",
    "preds = torch.cat([torch.cat(x, 1) for x in all_preds])\n",
    "labels.shape, preds.shape"
   ]
  },
  {
   "cell_type": "code",
   "execution_count": 29,
   "metadata": {},
   "outputs": [
    {
     "data": {
      "text/plain": [
       "([tensor(0.8276, device='cuda:0'),\n",
       "  tensor(0.9556, device='cuda:0'),\n",
       "  tensor(0.8759, device='cuda:0'),\n",
       "  tensor(0.9507, device='cuda:0'),\n",
       "  tensor(0.8632, device='cuda:0'),\n",
       "  tensor(0.8614, device='cuda:0'),\n",
       "  tensor(0.9341, device='cuda:0'),\n",
       "  tensor(0.9532, device='cuda:0'),\n",
       "  tensor(0.9965, device='cuda:0'),\n",
       "  tensor(0.9800, device='cuda:0'),\n",
       "  tensor(0.8661, device='cuda:0'),\n",
       "  tensor(0.9253, device='cuda:0'),\n",
       "  tensor(0.9907, device='cuda:0')],\n",
       " ['Bags_Under_Eyes',\n",
       "  'Bangs',\n",
       "  'Black_Hair',\n",
       "  'Blond_Hair',\n",
       "  'Brown_Hair',\n",
       "  'High_Cheekbones',\n",
       "  'Mouth_Slightly_Open',\n",
       "  'Chubby',\n",
       "  'Eyeglasses',\n",
       "  'Gray_Hair',\n",
       "  'Narrow_Eyes',\n",
       "  'Smiling',\n",
       "  'Wearing_Hat'])"
      ]
     },
     "execution_count": 29,
     "metadata": {},
     "output_type": "execute_result"
    }
   ],
   "source": [
    "preds_binary = (preds >= 0.5)\n",
    "accuracies = [(labels[:, i] == preds_binary[:, i]).float().mean() for i in range(13)]\n",
    "accuracies, [\"Bags_Under_Eyes\", \"Bangs\", \"Black_Hair\", \"Blond_Hair\", \"Brown_Hair\", \"High_Cheekbones\", \"Mouth_Slightly_Open\", \"Chubby\", \"Eyeglasses\", \"Gray_Hair\", \"Narrow_Eyes\", \"Smiling\", \"Wearing_Hat\"]"
   ]
  }
 ],
 "metadata": {
  "interpreter": {
   "hash": "44aa286e9a4ff89b5c5edac97debadb237999320880827a8ad5271c28de1c1c3"
  },
  "kernelspec": {
   "display_name": "Python 3.8.5 64-bit (system)",
   "language": "python",
   "name": "python3"
  },
  "language_info": {
   "codemirror_mode": {
    "name": "ipython",
    "version": 3
   },
   "file_extension": ".py",
   "mimetype": "text/x-python",
   "name": "python",
   "nbconvert_exporter": "python",
   "pygments_lexer": "ipython3",
   "version": "3.8.5"
  },
  "orig_nbformat": 4
 },
 "nbformat": 4,
 "nbformat_minor": 2
}
